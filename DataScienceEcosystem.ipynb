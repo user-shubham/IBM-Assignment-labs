{
 "cells": [
  {
   "cell_type": "markdown",
   "id": "6c9e5dcb-cae4-4b1e-ad18-271df492e4d0",
   "metadata": {},
   "source": [
    "<h1>Data Science Tools and Ecosystem</h1>"
   ]
  },
  {
   "cell_type": "markdown",
   "id": "51f46bed-ab8a-4c2a-9f23-64236c62c65b",
   "metadata": {},
   "source": [
    "In this notebook, Data Science Tools and Ecosystem are summarized."
   ]
  },
  {
   "cell_type": "markdown",
   "id": "31c271c2-e3b0-4f80-af58-16cd51b3ac39",
   "metadata": {},
   "source": [
    "Objectives:\n",
    "<ul>\n",
    "    <li>Python</li>\n",
    "    <li>R</li>\n",
    "    <li>GitHub</li>\n",
    "    <li>Hadoop</li>\n",
    "    <li>Pandas</li>\n",
    "    <li>Sklearn</li>\n",
    "</ul>"
   ]
  },
  {
   "cell_type": "markdown",
   "id": "900b7813-45a4-4266-a287-6c1c7d1de616",
   "metadata": {},
   "source": [
    "Some of the popular languages that Data Scientists use are:\n",
    "<ol>\n",
    "    <li>Python</li>\n",
    "    <li>R</li>\n",
    "    <li>Julia</li>\n",
    "    \n",
    "</ol>"
   ]
  },
  {
   "cell_type": "markdown",
   "id": "4600eb8c-bcd0-4835-973f-3ce8545e9ce7",
   "metadata": {},
   "source": [
    "Some of the commonly used libraries used by Data Scientists include:\n",
    "<ol>\n",
    "    <li>Scikit-learn</li>\n",
    "    <li>Pytorch</li>\n",
    "    <li>Tensorflow</li>\n",
    "    <li>Pandas</li>\n",
    "    <li>Numpy</li>\n",
    "    \n",
    "</ol>"
   ]
  },
  {
   "cell_type": "markdown",
   "id": "e9687eb5-cd70-4683-b6c1-db8c2427579d",
   "metadata": {},
   "source": [
    "\n",
    "<table>\n",
    "    <tr><th>Data Science Tools</th></tr>\n",
    "    <tr>\n",
    "        <td>Hadoop</td>\n",
    "    </tr>\n",
    "    <tr><td>Hive</td></tr>\n",
    "    <tr><td>Matplotlib</td></tr>\n",
    "    <tr><td>R</td></tr>\n",
    "    <tr><td>Power BI</td></tr>\n",
    "    <tr><td>Pandas</td></tr>\n",
    "    \n",
    "</table>"
   ]
  },
  {
   "cell_type": "markdown",
   "id": "d4410a30-e396-46e9-86c8-328ea43d30a5",
   "metadata": {},
   "source": [
    "<h3>Below are a few examples of evaluating arithmetic expressions in Python.<h3>"
   ]
  },
  {
   "cell_type": "code",
   "execution_count": 1,
   "id": "3d37bf9d-576f-4aac-92c5-997d20e636bd",
   "metadata": {},
   "outputs": [
    {
     "data": {
      "text/plain": [
       "17"
      ]
     },
     "execution_count": 1,
     "metadata": {},
     "output_type": "execute_result"
    }
   ],
   "source": [
    "(3*4)+5\n",
    "# his a simple arithmetic expression to mutiply then add integers"
   ]
  },
  {
   "cell_type": "code",
   "execution_count": 3,
   "id": "df6d95c8-4029-41d4-b637-346602ed01d9",
   "metadata": {},
   "outputs": [
    {
     "data": {
      "text/plain": [
       "3.33"
      ]
     },
     "execution_count": 3,
     "metadata": {},
     "output_type": "execute_result"
    }
   ],
   "source": [
    "# This will convert 200 minutes to hours by diving by 60\n",
    "round(200/60,2)"
   ]
  },
  {
   "cell_type": "markdown",
   "id": "d9012733-282f-4efc-a653-17b3cdd5c384",
   "metadata": {},
   "source": [
    "<h2>Author</h2>\n",
    "Shubham Chourasiya"
   ]
  }
 ],
 "metadata": {
  "kernelspec": {
   "display_name": "Python 3 (ipykernel)",
   "language": "python",
   "name": "python3"
  },
  "language_info": {
   "codemirror_mode": {
    "name": "ipython",
    "version": 3
   },
   "file_extension": ".py",
   "mimetype": "text/x-python",
   "name": "python",
   "nbconvert_exporter": "python",
   "pygments_lexer": "ipython3",
   "version": "3.13.5"
  }
 },
 "nbformat": 4,
 "nbformat_minor": 5
}
